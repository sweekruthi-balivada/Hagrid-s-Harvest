{
 "cells": [
  {
   "cell_type": "code",
   "execution_count": 16,
   "id": "10831755",
   "metadata": {},
   "outputs": [],
   "source": [
    "from DATA225utils import make_connection"
   ]
  },
  {
   "cell_type": "code",
   "execution_count": 17,
   "id": "c5c59c61",
   "metadata": {},
   "outputs": [],
   "source": [
    "conn = make_connection(config_file = 'remote.ini')\n",
    "cursor = conn.cursor()        "
   ]
  },
  {
   "cell_type": "code",
   "execution_count": 18,
   "id": "3a5e6f96",
   "metadata": {},
   "outputs": [],
   "source": [
    "cursor.execute(\"DROP PROCEDURE IF EXISTS SubCategoryInCategoryWithProductsInfo;\")\n",
    "cursor.execute(\"DROP PROCEDURE IF EXISTS GetOrderHistoryForCustomer;\")\n",
    "cursor.execute(\"DROP VIEW IF EXISTS CustomerLifetimeValue;\")\n",
    "cursor.execute(\"DROP VIEW IF EXISTS CustomerLocationOrderFrequency;\")"
   ]
  },
  {
   "cell_type": "code",
   "execution_count": 19,
   "id": "df1fbc39",
   "metadata": {},
   "outputs": [],
   "source": [
    "sql = \"\"\"\n",
    "    CREATE PROCEDURE SubCategoryInCategoryWithProductsInfo(IN cid INT)\n",
    "    BEGIN\n",
    "    SELECT DISTINCT s.Id, s.Name, COUNT(p.ProductId) AS NumOfProducts, ROUND(AVG(p.ProductPrice), 2) AS AvgProductPrice\n",
    "    FROM Sub_Category s\n",
    "    JOIN Products p ON s.Id = p.SubCategoryId\n",
    "    WHERE p.CategoryId = cid\n",
    "    GROUP BY s.Id, s.Name;\n",
    "    END\n",
    "\"\"\"\n",
    "cursor.execute(sql)"
   ]
  },
  {
   "cell_type": "code",
   "execution_count": 20,
   "id": "1ff7e57c",
   "metadata": {},
   "outputs": [],
   "source": [
    "sql = \"\"\"\n",
    "    CREATE PROCEDURE GetOrderHistoryForCustomer(IN customerId INT)\n",
    "    BEGIN\n",
    "        SELECT o.OrderId, o.OrderDate, p.ProductName, od.Quantity, p.ProductPrice, py.Amount\n",
    "        FROM Orders o\n",
    "        INNER JOIN Order_Details od ON o.OrderId = od.OrderId\n",
    "        INNER JOIN Products p ON od.ProductId = p.ProductId\n",
    "        INNER JOIN Payment py ON o.OrderId = py.OrderId\n",
    "        WHERE o.CustomerId = customerId;\n",
    "    END\n",
    "\"\"\"\n",
    "cursor.execute(sql)"
   ]
  },
  {
   "cell_type": "code",
   "execution_count": 21,
   "id": "90e6e041",
   "metadata": {},
   "outputs": [],
   "source": [
    "sql = \"\"\"\n",
    "    CREATE VIEW CustomerLifetimeValue AS\n",
    "    SELECT\n",
    "      Customer.CustomerId,\n",
    "      Customer.FirstName,\n",
    "      Customer.LastName,\n",
    "      Customer.Email,\n",
    "      SUM(Payment.Amount) AS TotalRevenue,\n",
    "      COUNT(DISTINCT Orders.OrderId) AS TotalOrders,\n",
    "      SUM(Payment.Amount) / COUNT(DISTINCT Orders.OrderId) AS AvgRevenuePerOrder\n",
    "    FROM\n",
    "      Customer\n",
    "      INNER JOIN Orders ON Customer.CustomerId = Orders.CustomerId\n",
    "      INNER JOIN Payment ON Orders.OrderId = Payment.OrderId\n",
    "    GROUP BY Customer.CustomerId\n",
    "    ORDER BY TotalRevenue DESC\n",
    "    LIMIT 1000;\n",
    "\"\"\"\n",
    "cursor.execute(sql)"
   ]
  },
  {
   "cell_type": "code",
   "execution_count": 22,
   "id": "6942966f",
   "metadata": {},
   "outputs": [],
   "source": [
    "sql = \"\"\"\n",
    "    CREATE VIEW CustomerLocationOrderFrequency AS\n",
    "    SELECT\n",
    "      ca.City,\n",
    "      ca.State,\n",
    "      COUNT(o.OrderId) AS OrderFrequency\n",
    "    FROM\n",
    "      Customer c\n",
    "      INNER JOIN Customer_Address ca ON c.CustomerId = ca.CustomerId\n",
    "      INNER JOIN Orders o ON c.CustomerId = o.CustomerId\n",
    "    GROUP BY ca.City, ca.State\n",
    "    ORDER BY OrderFrequency DESC\n",
    "    LIMIT 300;\n",
    "\"\"\"\n",
    "cursor.execute(sql)"
   ]
  },
  {
   "cell_type": "code",
   "execution_count": 23,
   "id": "de3d38dc",
   "metadata": {},
   "outputs": [],
   "source": [
    "cursor.close()\n",
    "conn.close()"
   ]
  }
 ],
 "metadata": {
  "kernelspec": {
   "display_name": "Python 3 (ipykernel)",
   "language": "python",
   "name": "python3"
  },
  "language_info": {
   "codemirror_mode": {
    "name": "ipython",
    "version": 3
   },
   "file_extension": ".py",
   "mimetype": "text/x-python",
   "name": "python",
   "nbconvert_exporter": "python",
   "pygments_lexer": "ipython3",
   "version": "3.9.13"
  }
 },
 "nbformat": 4,
 "nbformat_minor": 5
}
